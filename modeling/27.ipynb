{
 "cells": [
  {
   "cell_type": "code",
   "execution_count": 2,
   "metadata": {},
   "outputs": [
    {
     "name": "stderr",
     "output_type": "stream",
     "text": [
      "[*********************100%%**********************]  1 of 1 completed\n"
     ]
    },
    {
     "data": {
      "text/html": [
       "<div>\n",
       "<style scoped>\n",
       "    .dataframe tbody tr th:only-of-type {\n",
       "        vertical-align: middle;\n",
       "    }\n",
       "\n",
       "    .dataframe tbody tr th {\n",
       "        vertical-align: top;\n",
       "    }\n",
       "\n",
       "    .dataframe thead th {\n",
       "        text-align: right;\n",
       "    }\n",
       "</style>\n",
       "<table border=\"1\" class=\"dataframe\">\n",
       "  <thead>\n",
       "    <tr style=\"text-align: right;\">\n",
       "      <th></th>\n",
       "      <th>Open</th>\n",
       "      <th>High</th>\n",
       "      <th>Low</th>\n",
       "      <th>Close</th>\n",
       "      <th>Adj Close</th>\n",
       "      <th>Volume</th>\n",
       "    </tr>\n",
       "    <tr>\n",
       "      <th>Date</th>\n",
       "      <th></th>\n",
       "      <th></th>\n",
       "      <th></th>\n",
       "      <th></th>\n",
       "      <th></th>\n",
       "      <th></th>\n",
       "    </tr>\n",
       "  </thead>\n",
       "  <tbody>\n",
       "    <tr>\n",
       "      <th>2007-11-27</th>\n",
       "      <td>154.000000</td>\n",
       "      <td>207.000000</td>\n",
       "      <td>154.000000</td>\n",
       "      <td>191.800003</td>\n",
       "      <td>174.525604</td>\n",
       "      <td>27262365</td>\n",
       "    </tr>\n",
       "    <tr>\n",
       "      <th>2007-11-28</th>\n",
       "      <td>194.000000</td>\n",
       "      <td>197.800003</td>\n",
       "      <td>174.929993</td>\n",
       "      <td>177.000000</td>\n",
       "      <td>161.058594</td>\n",
       "      <td>21958915</td>\n",
       "    </tr>\n",
       "    <tr>\n",
       "      <th>2007-11-29</th>\n",
       "      <td>181.000000</td>\n",
       "      <td>182.800003</td>\n",
       "      <td>168.460007</td>\n",
       "      <td>177.399994</td>\n",
       "      <td>161.422546</td>\n",
       "      <td>25616715</td>\n",
       "    </tr>\n",
       "    <tr>\n",
       "      <th>2007-11-30</th>\n",
       "      <td>178.000000</td>\n",
       "      <td>191.399994</td>\n",
       "      <td>178.000000</td>\n",
       "      <td>185.800003</td>\n",
       "      <td>169.066025</td>\n",
       "      <td>23047035</td>\n",
       "    </tr>\n",
       "    <tr>\n",
       "      <th>2007-12-03</th>\n",
       "      <td>187.949997</td>\n",
       "      <td>198.860001</td>\n",
       "      <td>184.399994</td>\n",
       "      <td>196.000000</td>\n",
       "      <td>178.347336</td>\n",
       "      <td>14578850</td>\n",
       "    </tr>\n",
       "    <tr>\n",
       "      <th>...</th>\n",
       "      <td>...</td>\n",
       "      <td>...</td>\n",
       "      <td>...</td>\n",
       "      <td>...</td>\n",
       "      <td>...</td>\n",
       "      <td>...</td>\n",
       "    </tr>\n",
       "    <tr>\n",
       "      <th>2024-06-27</th>\n",
       "      <td>1475.599976</td>\n",
       "      <td>1494.000000</td>\n",
       "      <td>1459.000000</td>\n",
       "      <td>1485.500000</td>\n",
       "      <td>1485.500000</td>\n",
       "      <td>7803408</td>\n",
       "    </tr>\n",
       "    <tr>\n",
       "      <th>2024-06-28</th>\n",
       "      <td>1480.000000</td>\n",
       "      <td>1494.000000</td>\n",
       "      <td>1445.000000</td>\n",
       "      <td>1478.099976</td>\n",
       "      <td>1478.099976</td>\n",
       "      <td>11534763</td>\n",
       "    </tr>\n",
       "    <tr>\n",
       "      <th>2024-07-01</th>\n",
       "      <td>1483.000000</td>\n",
       "      <td>1491.400024</td>\n",
       "      <td>1471.599976</td>\n",
       "      <td>1474.500000</td>\n",
       "      <td>1474.500000</td>\n",
       "      <td>3372730</td>\n",
       "    </tr>\n",
       "    <tr>\n",
       "      <th>2024-07-02</th>\n",
       "      <td>1479.500000</td>\n",
       "      <td>1489.599976</td>\n",
       "      <td>1455.050049</td>\n",
       "      <td>1474.849976</td>\n",
       "      <td>1474.849976</td>\n",
       "      <td>5368562</td>\n",
       "    </tr>\n",
       "    <tr>\n",
       "      <th>2024-07-03</th>\n",
       "      <td>1479.800049</td>\n",
       "      <td>1514.000000</td>\n",
       "      <td>1470.800049</td>\n",
       "      <td>1510.650024</td>\n",
       "      <td>1510.650024</td>\n",
       "      <td>4433400</td>\n",
       "    </tr>\n",
       "  </tbody>\n",
       "</table>\n",
       "<p>4089 rows × 6 columns</p>\n",
       "</div>"
      ],
      "text/plain": [
       "                   Open         High          Low        Close    Adj Close  \\\n",
       "Date                                                                          \n",
       "2007-11-27   154.000000   207.000000   154.000000   191.800003   174.525604   \n",
       "2007-11-28   194.000000   197.800003   174.929993   177.000000   161.058594   \n",
       "2007-11-29   181.000000   182.800003   168.460007   177.399994   161.422546   \n",
       "2007-11-30   178.000000   191.399994   178.000000   185.800003   169.066025   \n",
       "2007-12-03   187.949997   198.860001   184.399994   196.000000   178.347336   \n",
       "...                 ...          ...          ...          ...          ...   \n",
       "2024-06-27  1475.599976  1494.000000  1459.000000  1485.500000  1485.500000   \n",
       "2024-06-28  1480.000000  1494.000000  1445.000000  1478.099976  1478.099976   \n",
       "2024-07-01  1483.000000  1491.400024  1471.599976  1474.500000  1474.500000   \n",
       "2024-07-02  1479.500000  1489.599976  1455.050049  1474.849976  1474.849976   \n",
       "2024-07-03  1479.800049  1514.000000  1470.800049  1510.650024  1510.650024   \n",
       "\n",
       "              Volume  \n",
       "Date                  \n",
       "2007-11-27  27262365  \n",
       "2007-11-28  21958915  \n",
       "2007-11-29  25616715  \n",
       "2007-11-30  23047035  \n",
       "2007-12-03  14578850  \n",
       "...              ...  \n",
       "2024-06-27   7803408  \n",
       "2024-06-28  11534763  \n",
       "2024-07-01   3372730  \n",
       "2024-07-02   5368562  \n",
       "2024-07-03   4433400  \n",
       "\n",
       "[4089 rows x 6 columns]"
      ]
     },
     "execution_count": 2,
     "metadata": {},
     "output_type": "execute_result"
    }
   ],
   "source": [
    "import yfinance as yf\n",
    "import pandas as pd\n",
    "from datetime import datetime\n",
    "\n",
    "\n",
    "ticker = 'ADANIPORTS.NS'  \n",
    "df = yf.download(ticker)\n",
    "\n",
    "df\n"
   ]
  },
  {
   "cell_type": "code",
   "execution_count": 32,
   "metadata": {},
   "outputs": [
    {
     "data": {
      "text/html": [
       "<div>\n",
       "<style scoped>\n",
       "    .dataframe tbody tr th:only-of-type {\n",
       "        vertical-align: middle;\n",
       "    }\n",
       "\n",
       "    .dataframe tbody tr th {\n",
       "        vertical-align: top;\n",
       "    }\n",
       "\n",
       "    .dataframe thead th {\n",
       "        text-align: right;\n",
       "    }\n",
       "</style>\n",
       "<table border=\"1\" class=\"dataframe\">\n",
       "  <thead>\n",
       "    <tr style=\"text-align: right;\">\n",
       "      <th></th>\n",
       "      <th>Open</th>\n",
       "      <th>High</th>\n",
       "      <th>Low</th>\n",
       "      <th>Close</th>\n",
       "      <th>Adj Close</th>\n",
       "      <th>Volume</th>\n",
       "    </tr>\n",
       "    <tr>\n",
       "      <th>Date</th>\n",
       "      <th></th>\n",
       "      <th></th>\n",
       "      <th></th>\n",
       "      <th></th>\n",
       "      <th></th>\n",
       "      <th></th>\n",
       "    </tr>\n",
       "  </thead>\n",
       "  <tbody>\n",
       "    <tr>\n",
       "      <th>2023-08-21</th>\n",
       "      <td>840.099976</td>\n",
       "      <td>864.099976</td>\n",
       "      <td>838.500000</td>\n",
       "      <td>858.150024</td>\n",
       "      <td>854.483887</td>\n",
       "      <td>17432300</td>\n",
       "    </tr>\n",
       "    <tr>\n",
       "      <th>2023-08-22</th>\n",
       "      <td>863.900024</td>\n",
       "      <td>869.000000</td>\n",
       "      <td>853.349976</td>\n",
       "      <td>854.500000</td>\n",
       "      <td>850.849426</td>\n",
       "      <td>8037324</td>\n",
       "    </tr>\n",
       "    <tr>\n",
       "      <th>2023-08-23</th>\n",
       "      <td>858.549988</td>\n",
       "      <td>862.450012</td>\n",
       "      <td>820.099976</td>\n",
       "      <td>825.700012</td>\n",
       "      <td>822.172485</td>\n",
       "      <td>4748732</td>\n",
       "    </tr>\n",
       "    <tr>\n",
       "      <th>2023-08-24</th>\n",
       "      <td>834.000000</td>\n",
       "      <td>844.400024</td>\n",
       "      <td>820.200012</td>\n",
       "      <td>822.349976</td>\n",
       "      <td>818.836792</td>\n",
       "      <td>4692796</td>\n",
       "    </tr>\n",
       "    <tr>\n",
       "      <th>2023-08-25</th>\n",
       "      <td>823.000000</td>\n",
       "      <td>830.400024</td>\n",
       "      <td>803.500000</td>\n",
       "      <td>806.599976</td>\n",
       "      <td>803.154053</td>\n",
       "      <td>4442243</td>\n",
       "    </tr>\n",
       "    <tr>\n",
       "      <th>...</th>\n",
       "      <td>...</td>\n",
       "      <td>...</td>\n",
       "      <td>...</td>\n",
       "      <td>...</td>\n",
       "      <td>...</td>\n",
       "      <td>...</td>\n",
       "    </tr>\n",
       "    <tr>\n",
       "      <th>2024-06-14</th>\n",
       "      <td>1409.000000</td>\n",
       "      <td>1442.000000</td>\n",
       "      <td>1395.449951</td>\n",
       "      <td>1430.699951</td>\n",
       "      <td>1430.699951</td>\n",
       "      <td>5651491</td>\n",
       "    </tr>\n",
       "    <tr>\n",
       "      <th>2024-06-18</th>\n",
       "      <td>1447.000000</td>\n",
       "      <td>1458.599976</td>\n",
       "      <td>1434.050049</td>\n",
       "      <td>1445.000000</td>\n",
       "      <td>1445.000000</td>\n",
       "      <td>5651898</td>\n",
       "    </tr>\n",
       "    <tr>\n",
       "      <th>2024-06-19</th>\n",
       "      <td>1446.000000</td>\n",
       "      <td>1452.000000</td>\n",
       "      <td>1420.449951</td>\n",
       "      <td>1448.400024</td>\n",
       "      <td>1448.400024</td>\n",
       "      <td>4484742</td>\n",
       "    </tr>\n",
       "    <tr>\n",
       "      <th>2024-06-20</th>\n",
       "      <td>1459.300049</td>\n",
       "      <td>1476.800049</td>\n",
       "      <td>1444.099976</td>\n",
       "      <td>1469.400024</td>\n",
       "      <td>1469.400024</td>\n",
       "      <td>4905603</td>\n",
       "    </tr>\n",
       "    <tr>\n",
       "      <th>2024-06-21</th>\n",
       "      <td>1479.949951</td>\n",
       "      <td>1498.900024</td>\n",
       "      <td>1470.000000</td>\n",
       "      <td>1485.500000</td>\n",
       "      <td>1485.500000</td>\n",
       "      <td>25891893</td>\n",
       "    </tr>\n",
       "  </tbody>\n",
       "</table>\n",
       "<p>204 rows × 6 columns</p>\n",
       "</div>"
      ],
      "text/plain": [
       "                   Open         High          Low        Close    Adj Close  \\\n",
       "Date                                                                          \n",
       "2023-08-21   840.099976   864.099976   838.500000   858.150024   854.483887   \n",
       "2023-08-22   863.900024   869.000000   853.349976   854.500000   850.849426   \n",
       "2023-08-23   858.549988   862.450012   820.099976   825.700012   822.172485   \n",
       "2023-08-24   834.000000   844.400024   820.200012   822.349976   818.836792   \n",
       "2023-08-25   823.000000   830.400024   803.500000   806.599976   803.154053   \n",
       "...                 ...          ...          ...          ...          ...   \n",
       "2024-06-14  1409.000000  1442.000000  1395.449951  1430.699951  1430.699951   \n",
       "2024-06-18  1447.000000  1458.599976  1434.050049  1445.000000  1445.000000   \n",
       "2024-06-19  1446.000000  1452.000000  1420.449951  1448.400024  1448.400024   \n",
       "2024-06-20  1459.300049  1476.800049  1444.099976  1469.400024  1469.400024   \n",
       "2024-06-21  1479.949951  1498.900024  1470.000000  1485.500000  1485.500000   \n",
       "\n",
       "              Volume  \n",
       "Date                  \n",
       "2023-08-21  17432300  \n",
       "2023-08-22   8037324  \n",
       "2023-08-23   4748732  \n",
       "2023-08-24   4692796  \n",
       "2023-08-25   4442243  \n",
       "...              ...  \n",
       "2024-06-14   5651491  \n",
       "2024-06-18   5651898  \n",
       "2024-06-19   4484742  \n",
       "2024-06-20   4905603  \n",
       "2024-06-21  25891893  \n",
       "\n",
       "[204 rows x 6 columns]"
      ]
     },
     "execution_count": 32,
     "metadata": {},
     "output_type": "execute_result"
    }
   ],
   "source": [
    "df.tail(204)"
   ]
  },
  {
   "cell_type": "code",
   "execution_count": 3,
   "metadata": {},
   "outputs": [
    {
     "data": {
      "text/plain": [
       "3885"
      ]
     },
     "execution_count": 3,
     "metadata": {},
     "output_type": "execute_result"
    }
   ],
   "source": [
    "import numpy as np\n",
    "data = df.filter(['Close'])\n",
    "\n",
    "dataset = data.values\n",
    "\n",
    "training_data_len = int(np.ceil( len(dataset) * .95 ))\n",
    "\n",
    "training_data_len"
   ]
  },
  {
   "cell_type": "code",
   "execution_count": 4,
   "metadata": {},
   "outputs": [
    {
     "data": {
      "text/plain": [
       "array([[0.09149939],\n",
       "       [0.08184108],\n",
       "       [0.08210212],\n",
       "       ...,\n",
       "       [0.92857425],\n",
       "       [0.92880264],\n",
       "       [0.95216533]])"
      ]
     },
     "execution_count": 4,
     "metadata": {},
     "output_type": "execute_result"
    }
   ],
   "source": [
    "from sklearn.preprocessing import MinMaxScaler\n",
    "\n",
    "scaler = MinMaxScaler(feature_range=(0,1))\n",
    "scaled_data = scaler.fit_transform(dataset)\n",
    "\n",
    "scaled_data"
   ]
  },
  {
   "cell_type": "code",
   "execution_count": 11,
   "metadata": {},
   "outputs": [
    {
     "name": "stdout",
     "output_type": "stream",
     "text": [
      "[array([0.09149939, 0.08184108, 0.08210212, 0.08758386, 0.09424026,\n",
      "       0.10324598, 0.1078141 , 0.10861025, 0.10990238, 0.10645019,\n",
      "       0.10285442, 0.10166672, 0.113968  , 0.110816  , 0.10262602,\n",
      "       0.10262602, 0.10558225, 0.10470777, 0.11731578, 0.12294109])]\n",
      "[0.1244746716015329]\n",
      "\n",
      "[array([0.09149939, 0.08184108, 0.08210212, 0.08758386, 0.09424026,\n",
      "       0.10324598, 0.1078141 , 0.10861025, 0.10990238, 0.10645019,\n",
      "       0.10285442, 0.10166672, 0.113968  , 0.110816  , 0.10262602,\n",
      "       0.10262602, 0.10558225, 0.10470777, 0.11731578, 0.12294109]), array([0.08184108, 0.08210212, 0.08758386, 0.09424026, 0.10324598,\n",
      "       0.1078141 , 0.10861025, 0.10990238, 0.10645019, 0.10285442,\n",
      "       0.10166672, 0.113968  , 0.110816  , 0.10262602, 0.10262602,\n",
      "       0.10558225, 0.10470777, 0.11731578, 0.12294109, 0.12447467])]\n",
      "[0.1244746716015329, 0.1293625606958556]\n",
      "\n"
     ]
    }
   ],
   "source": [
    "train_data = scaled_data[0:int(training_data_len), :]\n",
    "# Split the data into x_train and y_train data sets\n",
    "x_train = []\n",
    "y_train = []\n",
    "\n",
    "for i in range(20, len(train_data)):\n",
    "    x_train.append(train_data[i-20:i, 0])\n",
    "    y_train.append(train_data[i, 0])\n",
    "    if i<= 21:\n",
    "        print(x_train)\n",
    "        print(y_train)\n",
    "        print()\n",
    "        \n",
    "# Convert the x_train and y_train to numpy arrays \n",
    "x_train, y_train = np.array(x_train), np.array(y_train)\n",
    "\n",
    "# Reshape the data\n",
    "x_train = np.reshape(x_train, (x_train.shape[0], x_train.shape[1], 1))"
   ]
  },
  {
   "cell_type": "code",
   "execution_count": 26,
   "metadata": {},
   "outputs": [
    {
     "name": "stdout",
     "output_type": "stream",
     "text": [
      "Epoch 1/20\n",
      "387/387 [==============================] - 16s 24ms/step - loss: 6.9078e-04\n",
      "Epoch 2/20\n",
      "387/387 [==============================] - 9s 24ms/step - loss: 2.2375e-04\n",
      "Epoch 3/20\n",
      "387/387 [==============================] - 9s 23ms/step - loss: 1.7580e-04\n",
      "Epoch 4/20\n",
      "387/387 [==============================] - 9s 23ms/step - loss: 1.3667e-04\n",
      "Epoch 5/20\n",
      "387/387 [==============================] - 9s 24ms/step - loss: 1.1073e-04\n",
      "Epoch 6/20\n",
      "387/387 [==============================] - 10s 26ms/step - loss: 8.7981e-05\n",
      "Epoch 7/20\n",
      "387/387 [==============================] - 11s 27ms/step - loss: 8.1175e-05\n",
      "Epoch 8/20\n",
      "387/387 [==============================] - 10s 27ms/step - loss: 7.2447e-05\n",
      "Epoch 9/20\n",
      "387/387 [==============================] - 10s 26ms/step - loss: 6.4023e-05\n",
      "Epoch 10/20\n",
      "387/387 [==============================] - 9s 24ms/step - loss: 8.1789e-05\n",
      "Epoch 11/20\n",
      "387/387 [==============================] - 9s 24ms/step - loss: 6.9377e-05\n",
      "Epoch 12/20\n",
      "387/387 [==============================] - 10s 25ms/step - loss: 6.2218e-05\n",
      "Epoch 13/20\n",
      "387/387 [==============================] - 10s 25ms/step - loss: 6.7218e-05\n",
      "Epoch 14/20\n",
      "387/387 [==============================] - 10s 26ms/step - loss: 7.2200e-05\n",
      "Epoch 15/20\n",
      "387/387 [==============================] - 10s 27ms/step - loss: 7.8662e-05\n",
      "Epoch 16/20\n",
      "387/387 [==============================] - 10s 26ms/step - loss: 6.3192e-05\n",
      "Epoch 17/20\n",
      "387/387 [==============================] - 10s 26ms/step - loss: 5.5440e-05\n",
      "Epoch 18/20\n",
      "387/387 [==============================] - 11s 29ms/step - loss: 6.8856e-05\n",
      "Epoch 19/20\n",
      "387/387 [==============================] - 11s 28ms/step - loss: 6.1547e-05\n",
      "Epoch 20/20\n",
      "387/387 [==============================] - 11s 28ms/step - loss: 6.0619e-05\n"
     ]
    },
    {
     "data": {
      "text/plain": [
       "<keras.src.callbacks.History at 0x1fea4ad3a50>"
      ]
     },
     "execution_count": 26,
     "metadata": {},
     "output_type": "execute_result"
    }
   ],
   "source": [
    "from keras.models import Sequential\n",
    "from keras.layers import Dense, LSTM\n",
    "\n",
    "# Build the LSTM model\n",
    "model = Sequential()\n",
    "model.add(LSTM(100, return_sequences=True, input_shape= (x_train.shape[1], 1)))\n",
    "model.add(LSTM(100, return_sequences=False))\n",
    "model.add(Dense(100))\n",
    "model.add(Dense(1))\n",
    "\n",
    "# Compile the model\n",
    "model.compile(optimizer='adam', loss='mean_squared_error')\n",
    "\n",
    "# Train the model\n",
    "model.fit(x_train, y_train, batch_size=10, epochs=20)"
   ]
  },
  {
   "cell_type": "code",
   "execution_count": 27,
   "metadata": {},
   "outputs": [
    {
     "name": "stdout",
     "output_type": "stream",
     "text": [
      "7/7 [==============================] - 2s 18ms/step\n"
     ]
    },
    {
     "data": {
      "text/plain": [
       "0.9749789204343269"
      ]
     },
     "execution_count": 27,
     "metadata": {},
     "output_type": "execute_result"
    }
   ],
   "source": [
    "from  sklearn.metrics import r2_score\n",
    "test_data = scaled_data[training_data_len - 20: , :]\n",
    "\n",
    "x_test = []\n",
    "y_test = scaled_data[training_data_len:, :]\n",
    "for i in range(20, len(test_data)):\n",
    "    x_test.append(test_data[i-20:i, 0])\n",
    "    \n",
    "# Convert the data to a numpy array\n",
    "x_test = np.array(x_test)\n",
    "\n",
    "# Reshape the data\n",
    "x_test = np.reshape(x_test, (x_test.shape[0], x_test.shape[1], 1 ))\n",
    "\n",
    "# Get the models predicted price values \n",
    "predictions = model.predict(x_test)\n",
    "# predictions = scaler.inverse_transform(predictions)\n",
    "r2 = r2_score(y_test,predictions)\n",
    "r2\n"
   ]
  },
  {
   "cell_type": "code",
   "execution_count": 36,
   "metadata": {},
   "outputs": [
    {
     "name": "stdout",
     "output_type": "stream",
     "text": [
      "1/1 [==============================] - 0s 44ms/step\n",
      "Predicted price: 53.754005\n"
     ]
    }
   ],
   "source": [
    "last_30_days_prices = np.array([10, 20, 30, 40, 50, 60, 70, 80, 90, 100,\n",
    "                                10, 10, 20, 30, 40, 50, 60, 70, 80, 90,\n",
    "                                90, 80, 70, 60, 50, 40, 30, 20, 10, 40]).reshape(-1, 1)\n",
    "\n",
    "\n",
    "\n",
    "\n",
    "last_30_days_scaled = scaler.transform(last_30_days_prices)\n",
    "\n",
    "last_30_days_scaled = np.reshape(last_30_days_scaled, (1, last_30_days_scaled.shape[0], 1))\n",
    "\n",
    "predicted_price_scaled = model.predict(last_30_days_scaled)\n",
    "\n",
    "predicted_price = scaler.inverse_transform(predicted_price_scaled)\n",
    "\n",
    "print(\"Predicted price:\", predicted_price[0][0])"
   ]
  },
  {
   "cell_type": "code",
   "execution_count": 28,
   "metadata": {},
   "outputs": [
    {
     "data": {
      "image/png": "[encoded data removed]",
      "text/plain": [
       "<Figure size 1600x800 with 1 Axes>"
      ]
     },
     "metadata": {},
     "output_type": "display_data"
    }
   ],
   "source": [
    "import matplotlib.pyplot as plt\n",
    "y_test = np.array(y_test)\n",
    "predictions = np.array(predictions)\n",
    "test_dates = pd.date_range(start='2023-08-21', periods=len(y_test), freq='D')\n",
    "\n",
    "# Plot the data\n",
    "plt.figure(figsize=(16, 8))\n",
    "plt.plot(test_dates, y_test, color='blue', label='Actual Prices')\n",
    "plt.plot(test_dates, predictions, color='red', label='Predicted Prices')\n",
    "plt.title('Actual Prices vs Predicted Prices')\n",
    "plt.xlabel('Date')\n",
    "plt.ylabel('Price')\n",
    "plt.legend()\n",
    "plt.gcf().autofmt_xdate()  # Rotate date labels for better readability\n",
    "plt.show()"
   ]
  },
  {
   "cell_type": "code",
   "execution_count": 29,
   "metadata": {},
   "outputs": [
    {
     "name": "stdout",
     "output_type": "stream",
     "text": [
      "Model saved to 27.joblib\n",
      "Scaler saved to scaler27.joblib\n"
     ]
    }
   ],
   "source": [
    "import joblib\n",
    "\n",
    "\n",
    "model_file_path = '27.joblib'\n",
    "scaler_file_path = 'scaler27.joblib'\n",
    "\n",
    "joblib.dump(model, model_file_path)\n",
    "joblib.dump(scaler, scaler_file_path)\n",
    "\n",
    "print(f\"Model saved to {model_file_path}\")\n",
    "print(f\"Scaler saved to {scaler_file_path}\")\n",
    "\n"
   ]
  },
  {
   "cell_type": "code",
   "execution_count": 14,
   "metadata": {},
   "outputs": [
    {
     "name": "stdout",
     "output_type": "stream",
     "text": [
      "1/1 [==============================] - 2s 2s/step\n"
     ]
    },
    {
     "data": {
      "text/plain": [
       "array([[57.02381]], dtype=float32)"
      ]
     },
     "execution_count": 14,
     "metadata": {},
     "output_type": "execute_result"
    }
   ],
   "source": [
    "model_file_path = '27.joblib'\n",
    "scaler_file_path = 'scaler27.joblib'\n",
    "\n",
    "loaded_model = joblib.load(model_file_path)\n",
    "loaded_scaler = joblib.load(scaler_file_path)\n",
    "\n",
    "new_data = np.array([10, 20, 30, 40, 50, 60, 70, 80, 90, 100,\n",
    "                                10, 10, 20, 30, 40, 50, 60, 70, 80, 90,\n",
    "                                90, 80, 70, 60, 50, 40, 30, 20, 10, 40]).reshape(-1, 1)\n",
    "\n",
    "new_data_scaled = loaded_scaler.transform(new_data)\n",
    "new_data_scaled = np.reshape(new_data_scaled, (1, new_data_scaled.shape[0], 1))\n",
    "predicted_price = loaded_model.predict(new_data_scaled)\n",
    "predictions = scaler.inverse_transform(predicted_price)\n",
    "predictions\n"
   ]
  }
 ],
 "metadata": {
  "kernelspec": {
   "display_name": "Python 3",
   "language": "python",
   "name": "python3"
  },
  "language_info": {
   "codemirror_mode": {
    "name": "ipython",
    "version": 3
   },
   "file_extension": ".py",
   "mimetype": "text/x-python",
   "name": "python",
   "nbconvert_exporter": "python",
   "pygments_lexer": "ipython3",
   "version": "3.11.4"
  }
 },
 "nbformat": 4,
 "nbformat_minor": 2
}
