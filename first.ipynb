{
 "cells": [
  {
   "cell_type": "code",
   "execution_count": 1,
   "metadata": {},
   "outputs": [
    {
     "name": "stderr",
     "output_type": "stream",
     "text": [
      "c:\\Users\\Admin\\AppData\\Local\\Programs\\Python\\Python311\\Lib\\site-packages\\tqdm\\auto.py:21: TqdmWarning: IProgress not found. Please update jupyter and ipywidgets. See https://ipywidgets.readthedocs.io/en/stable/user_install.html\n",
      "  from .autonotebook import tqdm as notebook_tqdm\n"
     ]
    },
    {
     "name": "stdout",
     "output_type": "stream",
     "text": [
      "WARNING:tensorflow:From c:\\Users\\Admin\\AppData\\Local\\Programs\\Python\\Python311\\Lib\\site-packages\\keras\\src\\losses.py:2976: The name tf.losses.sparse_softmax_cross_entropy is deprecated. Please use tf.compat.v1.losses.sparse_softmax_cross_entropy instead.\n",
      "\n"
     ]
    }
   ],
   "source": [
    "import pdfplumber\n",
    "import re\n",
    "import spacy\n",
    "import sqlite3\n",
    "from transformers import GPT2Tokenizer, GPT2LMHeadModel, TextDataset, DataCollatorForLanguageModeling\n",
    "\n",
    "# Function to extract text from PDF\n",
    "def extract_text_from_pdf(file_path):\n",
    "    text = \"\"\n",
    "    with pdfplumber.open(file_path) as pdf:\n",
    "        for page in pdf.pages:\n",
    "            text += page.extract_text()\n",
    "    return text\n",
    "\n",
    "# Function to clean extracted text\n",
    "def clean_text(text):\n",
    "    text = re.sub(r'\\s+', ' ', text)  # Remove extra spaces\n",
    "    text = re.sub(r'\\n+', ' ', text)  # Remove line breaks\n",
    "    return text\n",
    "\n",
    "# Function to chunk text\n",
    "def chunk_text(text, chunk_size=100):\n",
    "    words = text.split()\n",
    "    for i in range(0, len(words), chunk_size):\n",
    "        yield ' '.join(words[i:i + chunk_size])\n",
    "\n",
    "# Function to process and store financial data using spaCy\n",
    "def process_and_store_data(text, db_name=\"financial_data.db\"):\n",
    "    nlp = spacy.load(\"en_core_web_sm\")\n",
    "    conn = sqlite3.connect(db_name)\n",
    "    cursor = conn.cursor()\n",
    "    \n",
    "    # Create table if not exists\n",
    "    cursor.execute('''CREATE TABLE IF NOT EXISTS FinancialData\n",
    "                      (entity TEXT, value TEXT)''')\n",
    "    \n",
    "    for chunk in chunk_text(text):\n",
    "        doc = nlp(chunk)\n",
    "        for ent in doc.ents:\n",
    "            if ent.label_ in [\"ORG\", \"MONEY\", \"DATE\"]:\n",
    "                cursor.execute(\"INSERT INTO FinancialData (entity, value) VALUES (?, ?)\", (ent.text, ent.label_))\n",
    "        conn.commit()  # Commit after each chunk to save progress\n",
    "    conn.close()\n",
    "\n",
    "# Main workflow\n",
    "pdf_text = extract_text_from_pdf(\"nazara_tech.pdf\")\n",
    "cleaned_text = clean_text(pdf_text)\n",
    "process_and_store_data(cleaned_text)\n",
    "\n",
    "\n",
    "\n"
   ]
  },
  {
   "cell_type": "code",
   "execution_count": 2,
   "metadata": {},
   "outputs": [],
   "source": [
    "import tempfile\n",
    "from transformers import TrainingArguments\n",
    "\n",
    "\n",
    "# Write cleaned text to a temporary file with UTF-8 encoding\n",
    "with tempfile.NamedTemporaryFile(mode=\"w\", delete=False, encoding=\"utf-8\") as temp_file:\n",
    "    temp_file.write(cleaned_text)\n",
    "    temp_file_path = temp_file.name"
   ]
  },
  {
   "cell_type": "code",
   "execution_count": 3,
   "metadata": {},
   "outputs": [
    {
     "name": "stderr",
     "output_type": "stream",
     "text": [
      "c:\\Users\\Admin\\AppData\\Local\\Programs\\Python\\Python311\\Lib\\site-packages\\transformers\\data\\datasets\\language_modeling.py:53: FutureWarning: This dataset will be removed from the library soon, preprocessing should be handled with the 🤗 Datasets library. You can have a look at this example script for pointers: https://github.com/huggingface/transformers/blob/main/examples/pytorch/language-modeling/run_mlm.py\n",
      "  warnings.warn(\n",
      "c:\\Users\\Admin\\AppData\\Local\\Programs\\Python\\Python311\\Lib\\site-packages\\accelerate\\accelerator.py:444: FutureWarning: Passing the following arguments to `Accelerator` is deprecated and will be removed in version 1.0 of Accelerate: dict_keys(['dispatch_batches', 'split_batches']). Please pass an `accelerate.DataLoaderConfiguration` instead: \n",
      "dataloader_config = DataLoaderConfiguration(dispatch_batches=None, split_batches=False)\n",
      "  warnings.warn(\n",
      " 28%|██▊       | 343/1239 [18:52:26<929:32:11, 3734.74s/it] "
     ]
    }
   ],
   "source": [
    "\n",
    "from transformers import Trainer\n",
    "\n",
    "# Initialize GPT-2 tokenizer and model\n",
    "tokenizer = GPT2Tokenizer.from_pretrained(\"gpt2\")\n",
    "tokenizer.add_special_tokens({'pad_token': '[PAD]'})  # Add padding token\n",
    "model = GPT2LMHeadModel.from_pretrained(\"gpt2\")\n",
    "\n",
    "# Tokenize and preprocess financial text data\n",
    "# Add padding token to the tokenizer\n",
    "tokenizer.pad_token = tokenizer.eos_token\n",
    "\n",
    "# Tokenize and preprocess financial text data\n",
    "encoded_data = tokenizer(cleaned_text, return_tensors=\"pt\", padding=True, truncation=True)\n",
    "dataset = TextDataset(file_path=temp_file_path, tokenizer=tokenizer, block_size=128)  # Adjust block size as needed\n",
    "\n",
    "# Define data collator and training arguments\n",
    "data_collator = DataCollatorForLanguageModeling(tokenizer=tokenizer, mlm=False)\n",
    "\n",
    "# Train the model\n",
    "model.train()\n",
    "\n",
    "# Define training arguments\n",
    "training_args = TrainingArguments(\n",
    "    output_dir='./output_dir',  # Specify the output directory\n",
    "    per_device_train_batch_size=4,\n",
    "    num_train_epochs=3,\n",
    "    logging_dir='./logs',\n",
    ")\n",
    "\n",
    "\n",
    "# Initialize Trainer\n",
    "trainer = Trainer(\n",
    "    model=model,\n",
    "    args=training_args,\n",
    "    data_collator=data_collator,\n",
    "    train_dataset=dataset,\n",
    ")\n",
    "\n",
    "# Train the model\n",
    "trainer.train()\n",
    "\n",
    "# Save the model\n",
    "model.save_pretrained(\"financial_chatbot_model\")\n",
    "tokenizer.save_pretrained(\"financial_chatbot_model\")\n"
   ]
  }
 ],
 "metadata": {
  "kernelspec": {
   "display_name": "Python 3",
   "language": "python",
   "name": "python3"
  },
  "language_info": {
   "codemirror_mode": {
    "name": "ipython",
    "version": 3
   },
   "file_extension": ".py",
   "mimetype": "text/x-python",
   "name": "python",
   "nbconvert_exporter": "python",
   "pygments_lexer": "ipython3",
   "version": "3.11.4"
  }
 },
 "nbformat": 4,
 "nbformat_minor": 2
}
